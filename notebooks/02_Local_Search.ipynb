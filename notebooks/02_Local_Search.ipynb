{
  "nbformat": 4,
  "nbformat_minor": 0,
  "metadata": {
    "colab": {
      "name": "Untitled0.ipynb",
      "version": "0.3.2",
      "provenance": [],
      "include_colab_link": true
    },
    "kernelspec": {
      "name": "python3",
      "display_name": "Python 3"
    }
  },
  "cells": [
    {
      "cell_type": "markdown",
      "metadata": {
        "id": "view-in-github",
        "colab_type": "text"
      },
      "source": [
        "<a href=\"https://colab.research.google.com/github/hjnowakowski/heuristic-optimization-methods/blob/master/notebooks/02_Local_Search.ipynb\" target=\"_parent\"><img src=\"https://colab.research.google.com/assets/colab-badge.svg\" alt=\"Open In Colab\"/></a>"
      ]
    },
    {
      "metadata": {
        "id": "PNQ9o0BpGVB4",
        "colab_type": "text"
      },
      "cell_type": "markdown",
      "source": [
        "# Simple Local Search"
      ]
    },
    {
      "metadata": {
        "id": "f-y2O-VmGNEy",
        "colab_type": "code",
        "colab": {
          "base_uri": "https://localhost:8080/",
          "height": 34
        },
        "outputId": "e2693db3-e0b2-484f-8eb7-16c364dd9d6c"
      },
      "cell_type": "code",
      "source": [
        "print(\"ls\")\n",
        "\n",
        "\n",
        "\n",
        "starting_point = 1\n",
        "\n",
        "\n",
        "for i in range(0, 100):\n",
        "  # generate \n"
      ],
      "execution_count": 2,
      "outputs": [
        {
          "output_type": "stream",
          "text": [
            "ls\n"
          ],
          "name": "stdout"
        }
      ]
    }
  ]
}